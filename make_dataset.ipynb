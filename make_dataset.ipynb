{
 "cells": [
  {
   "cell_type": "code",
   "execution_count": 65,
   "id": "c8768ef8",
   "metadata": {},
   "outputs": [],
   "source": [
    "#imports\n",
    "import cv2\n",
    "import imageio as iio\n",
    "import os\n",
    "import glob\n",
    "import scipy\n",
    "import scipy.io as io \n",
    "from matplotlib import pyplot as plt\n",
    "import numpy as np\n",
    "# import h5py\n",
    "# from PIL import Image as Image\n",
    "\n",
    "\n",
    "\n",
    "# from scipy.ndimage.filters import gaussian_filter\n",
    "# import scipy\n",
    "# import json\n",
    "# from matplotlib import cm as CM\n",
    "# from Image import *\n",
    "# from model import CSRNet\n",
    "# import torch\n",
    "# from tqdm import tqdm\n",
    "# %matplotlib inline"
   ]
  },
  {
   "cell_type": "code",
   "execution_count": 2,
   "id": "f49f2597",
   "metadata": {},
   "outputs": [
    {
     "name": "stderr",
     "output_type": "stream",
     "text": [
      "/tmp/ipykernel_3403/360930313.py:2: DeprecationWarning: Starting with ImageIO v3 the behavior of this function will switch to that of iio.v3.imread. To keep the current behavior (and make this warning disappear) use `import imageio.v2 as imageio` or call `imageio.v2.imread` directly.\n",
      "  img=iio.imread('raw_data/Shaghaitech dataset/ShanghaiTech/part_A/train_data/images/IMG_1.jpg')\n"
     ]
    }
   ],
   "source": [
    "#To create density maps for images\n",
    "img=iio.imread('raw_data/Shaghaitech dataset/ShanghaiTech/part_A/train_data/images/IMG_1.jpg')\n",
    "def gaussian_filter_density(img):\n",
    "    gaussian_using_cv2=cv2.GaussianBlur(img,(3,3),0,borderType=cv2.BORDER_CONSTANT)\n",
    "    cv2.imshow(\"Original\",img)\n",
    "\n",
    "    cv2.imshow('filtered',gaussian_using_cv2 )\n",
    "    cv2.waitKey(0)\n",
    "    cv2.destroyAllWindows()\n",
    "\n",
    "gaussian_filter_density(img)"
   ]
  },
  {
   "cell_type": "markdown",
   "id": "56710371",
   "metadata": {},
   "source": [
    "#Creating file path"
   ]
  },
  {
   "cell_type": "code",
   "execution_count": 19,
   "id": "0581702e",
   "metadata": {},
   "outputs": [],
   "source": [
    "root='/home/tithi/code/RakshitTithi/ICYO/'"
   ]
  },
  {
   "cell_type": "code",
   "execution_count": 27,
   "id": "c07d4d45",
   "metadata": {},
   "outputs": [],
   "source": [
    "part_A_train=os.path.join(root,'raw_data/Shaghaitech_dataset/ShanghaiTech/part_A/train_data','images')\n",
    "part_A_test = os.path.join(root,'raw_data/Shaghaitech_dataset/ShanghaiTech/part_A/test_data','images')\n",
    "part_B_train = os.path.join(root,'raw_data/Shaghaitech_dataset/ShanghaiTech/part_B/train_data','images')\n",
    "part_B_test = os.path.join(root,'raw_data/Shaghaitech_dataset/ShanghaiTech/part_B/test_data','images')\n",
    "path_sets = [part_A_train,part_A_test]"
   ]
  },
  {
   "cell_type": "code",
   "execution_count": 28,
   "id": "8c7e6bee",
   "metadata": {},
   "outputs": [
    {
     "data": {
      "text/plain": [
       "'/home/tithi/code/RakshitTithi/ICYO/raw_data/Shaghaitech_dataset/ShanghaiTech/part_A/train_data/images'"
      ]
     },
     "execution_count": 28,
     "metadata": {},
     "output_type": "execute_result"
    }
   ],
   "source": [
    "part_A_train"
   ]
  },
  {
   "cell_type": "markdown",
   "id": "1e4f62d5",
   "metadata": {},
   "source": [
    "#create a list of absolute path of jpg file"
   ]
  },
  {
   "cell_type": "code",
   "execution_count": 29,
   "id": "05695044",
   "metadata": {},
   "outputs": [],
   "source": [
    "img_paths=[]\n",
    "for path in path_sets:\n",
    "    for img_path in glob.glob(os.path.join(path,'*.jpg')):\n",
    "        img_paths.append(img_path)"
   ]
  },
  {
   "cell_type": "code",
   "execution_count": 49,
   "id": "d9839232",
   "metadata": {},
   "outputs": [
    {
     "data": {
      "text/plain": [
       "'/home/tithi/code/RakshitTithi/ICYO/raw_data/Shaghaitech_dataset/ShanghaiTech/part_A/test_data/images/IMG_80.jpg'"
      ]
     },
     "execution_count": 49,
     "metadata": {},
     "output_type": "execute_result"
    }
   ],
   "source": [
    "img_path"
   ]
  },
  {
   "cell_type": "markdown",
   "id": "ca21a73e",
   "metadata": {},
   "source": [
    "#creating density map"
   ]
  },
  {
   "cell_type": "code",
   "execution_count": 68,
   "id": "63e216f5",
   "metadata": {},
   "outputs": [],
   "source": [
    "for img_path in img_paths:\n",
    "#     print(img_path)\n",
    "    #loading mat files and modifying the names as per the corresponding images\n",
    "    mat=io.loadmat(img_path.replace('.jpg','.mat').replace('images','ground-truth').replace('IMG_','GT_IMG_'))\n",
    "    img=plt.imread(img_path) #reading the image as a tensor\n",
    "    k = np.zeros((img.shape[0],img.shape[1])) #creating an array of 0s\n",
    "    gt=mat['image_info'][0,0][0,0][0] #accessing ground truth elements\n",
    "    "
   ]
  },
  {
   "cell_type": "code",
   "execution_count": 56,
   "id": "43c41f09",
   "metadata": {},
   "outputs": [
    {
     "data": {
      "text/plain": [
       "(690, 1024, 3)"
      ]
     },
     "execution_count": 56,
     "metadata": {},
     "output_type": "execute_result"
    }
   ],
   "source": [
    "img.shape # 690 \n"
   ]
  },
  {
   "cell_type": "code",
   "execution_count": 71,
   "id": "c2cd03cb",
   "metadata": {},
   "outputs": [
    {
     "data": {
      "text/plain": [
       "157"
      ]
     },
     "execution_count": 71,
     "metadata": {},
     "output_type": "execute_result"
    }
   ],
   "source": [
    "len(gt)"
   ]
  },
  {
   "cell_type": "code",
   "execution_count": null,
   "id": "c3b96b21",
   "metadata": {},
   "outputs": [],
   "source": []
  }
 ],
 "metadata": {
  "kernelspec": {
   "display_name": "Python 3 (ipykernel)",
   "language": "python",
   "name": "python3"
  },
  "language_info": {
   "codemirror_mode": {
    "name": "ipython",
    "version": 3
   },
   "file_extension": ".py",
   "mimetype": "text/x-python",
   "name": "python",
   "nbconvert_exporter": "python",
   "pygments_lexer": "ipython3",
   "version": "3.8.12"
  },
  "toc": {
   "base_numbering": 1,
   "nav_menu": {},
   "number_sections": true,
   "sideBar": true,
   "skip_h1_title": false,
   "title_cell": "Table of Contents",
   "title_sidebar": "Contents",
   "toc_cell": false,
   "toc_position": {},
   "toc_section_display": true,
   "toc_window_display": false
  }
 },
 "nbformat": 4,
 "nbformat_minor": 5
}
